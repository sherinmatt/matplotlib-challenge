{
 "cells": [
  {
   "cell_type": "markdown",
   "metadata": {},
   "source": [
    "## Observations and Insights "
   ]
  },
  {
   "cell_type": "markdown",
   "metadata": {},
   "source": []
  },
  {
   "cell_type": "code",
   "execution_count": 213,
   "metadata": {},
   "outputs": [
    {
     "data": {
      "text/html": [
       "<div>\n",
       "<style scoped>\n",
       "    .dataframe tbody tr th:only-of-type {\n",
       "        vertical-align: middle;\n",
       "    }\n",
       "\n",
       "    .dataframe tbody tr th {\n",
       "        vertical-align: top;\n",
       "    }\n",
       "\n",
       "    .dataframe thead th {\n",
       "        text-align: right;\n",
       "    }\n",
       "</style>\n",
       "<table border=\"1\" class=\"dataframe\">\n",
       "  <thead>\n",
       "    <tr style=\"text-align: right;\">\n",
       "      <th></th>\n",
       "      <th>Mouse ID</th>\n",
       "      <th>Timepoint</th>\n",
       "      <th>Tumor Volume (mm3)</th>\n",
       "      <th>Metastatic Sites</th>\n",
       "      <th>Drug Regimen</th>\n",
       "      <th>Sex</th>\n",
       "      <th>Age_months</th>\n",
       "      <th>Weight (g)</th>\n",
       "    </tr>\n",
       "  </thead>\n",
       "  <tbody>\n",
       "    <tr>\n",
       "      <th>0</th>\n",
       "      <td>b128</td>\n",
       "      <td>0</td>\n",
       "      <td>45.0</td>\n",
       "      <td>0</td>\n",
       "      <td>Capomulin</td>\n",
       "      <td>Female</td>\n",
       "      <td>9</td>\n",
       "      <td>22</td>\n",
       "    </tr>\n",
       "    <tr>\n",
       "      <th>1</th>\n",
       "      <td>f932</td>\n",
       "      <td>0</td>\n",
       "      <td>45.0</td>\n",
       "      <td>0</td>\n",
       "      <td>Ketapril</td>\n",
       "      <td>Male</td>\n",
       "      <td>15</td>\n",
       "      <td>29</td>\n",
       "    </tr>\n",
       "    <tr>\n",
       "      <th>2</th>\n",
       "      <td>g107</td>\n",
       "      <td>0</td>\n",
       "      <td>45.0</td>\n",
       "      <td>0</td>\n",
       "      <td>Ketapril</td>\n",
       "      <td>Female</td>\n",
       "      <td>2</td>\n",
       "      <td>29</td>\n",
       "    </tr>\n",
       "    <tr>\n",
       "      <th>3</th>\n",
       "      <td>a457</td>\n",
       "      <td>0</td>\n",
       "      <td>45.0</td>\n",
       "      <td>0</td>\n",
       "      <td>Ketapril</td>\n",
       "      <td>Female</td>\n",
       "      <td>11</td>\n",
       "      <td>30</td>\n",
       "    </tr>\n",
       "    <tr>\n",
       "      <th>4</th>\n",
       "      <td>c819</td>\n",
       "      <td>0</td>\n",
       "      <td>45.0</td>\n",
       "      <td>0</td>\n",
       "      <td>Ketapril</td>\n",
       "      <td>Male</td>\n",
       "      <td>21</td>\n",
       "      <td>25</td>\n",
       "    </tr>\n",
       "    <tr>\n",
       "      <th>5</th>\n",
       "      <td>h246</td>\n",
       "      <td>0</td>\n",
       "      <td>45.0</td>\n",
       "      <td>0</td>\n",
       "      <td>Ketapril</td>\n",
       "      <td>Male</td>\n",
       "      <td>13</td>\n",
       "      <td>30</td>\n",
       "    </tr>\n",
       "    <tr>\n",
       "      <th>6</th>\n",
       "      <td>p189</td>\n",
       "      <td>0</td>\n",
       "      <td>45.0</td>\n",
       "      <td>0</td>\n",
       "      <td>Ketapril</td>\n",
       "      <td>Male</td>\n",
       "      <td>8</td>\n",
       "      <td>28</td>\n",
       "    </tr>\n",
       "    <tr>\n",
       "      <th>7</th>\n",
       "      <td>n923</td>\n",
       "      <td>0</td>\n",
       "      <td>45.0</td>\n",
       "      <td>0</td>\n",
       "      <td>Ketapril</td>\n",
       "      <td>Male</td>\n",
       "      <td>19</td>\n",
       "      <td>30</td>\n",
       "    </tr>\n",
       "    <tr>\n",
       "      <th>8</th>\n",
       "      <td>q119</td>\n",
       "      <td>0</td>\n",
       "      <td>45.0</td>\n",
       "      <td>0</td>\n",
       "      <td>Ketapril</td>\n",
       "      <td>Male</td>\n",
       "      <td>17</td>\n",
       "      <td>30</td>\n",
       "    </tr>\n",
       "    <tr>\n",
       "      <th>9</th>\n",
       "      <td>f993</td>\n",
       "      <td>0</td>\n",
       "      <td>45.0</td>\n",
       "      <td>0</td>\n",
       "      <td>Naftisol</td>\n",
       "      <td>Male</td>\n",
       "      <td>21</td>\n",
       "      <td>28</td>\n",
       "    </tr>\n",
       "  </tbody>\n",
       "</table>\n",
       "</div>"
      ],
      "text/plain": [
       "  Mouse ID  Timepoint  Tumor Volume (mm3)  Metastatic Sites Drug Regimen  \\\n",
       "0     b128          0                45.0                 0    Capomulin   \n",
       "1     f932          0                45.0                 0     Ketapril   \n",
       "2     g107          0                45.0                 0     Ketapril   \n",
       "3     a457          0                45.0                 0     Ketapril   \n",
       "4     c819          0                45.0                 0     Ketapril   \n",
       "5     h246          0                45.0                 0     Ketapril   \n",
       "6     p189          0                45.0                 0     Ketapril   \n",
       "7     n923          0                45.0                 0     Ketapril   \n",
       "8     q119          0                45.0                 0     Ketapril   \n",
       "9     f993          0                45.0                 0     Naftisol   \n",
       "\n",
       "      Sex  Age_months  Weight (g)  \n",
       "0  Female           9          22  \n",
       "1    Male          15          29  \n",
       "2  Female           2          29  \n",
       "3  Female          11          30  \n",
       "4    Male          21          25  \n",
       "5    Male          13          30  \n",
       "6    Male           8          28  \n",
       "7    Male          19          30  \n",
       "8    Male          17          30  \n",
       "9    Male          21          28  "
      ]
     },
     "execution_count": 213,
     "metadata": {},
     "output_type": "execute_result"
    }
   ],
   "source": [
    "# Dependencies and Setup\n",
    "import matplotlib.pyplot as plt\n",
    "import pandas as pd\n",
    "import numpy as np\n",
    "import scipy.stats as st\n",
    "from scipy.stats import linregress\n",
    "\n",
    "#read data\n",
    "mouse_metadata_df = pd.read_csv(\"data/Mouse_metadata.csv\")\n",
    "study_results_df = pd.read_csv(\"data/Study_results.csv\")\n",
    "\n",
    "# Combine the data into a single dataset\n",
    "single_dataset = pd.merge(study_results_df,mouse_metadata_df, how ='left', on =[\"Mouse ID\"])\n",
    "\n",
    "# Display the data table for preview\n",
    "\n",
    "# I displayed the first 9 rows for a more detailed preview:\n",
    "single_dataset.head(10)"
   ]
  },
  {
   "cell_type": "code",
   "execution_count": 214,
   "metadata": {},
   "outputs": [],
   "source": [
    "# Check the number of mice.\n",
    "num_mice = len(single_dataset['Mouse ID'].unique())\n",
    "num_mice"
   ]
  },
  {
   "cell_type": "code",
   "execution_count": 215,
   "metadata": {},
   "outputs": [],
   "source": [
    "# Find any duplicate rows with the same Mouse ID's and Timepoints. \n",
    "#df = pd.DataFrame(single_dataset, columuns = ['Mouse ID','Timepoint'])"
   ]
  },
  {
   "cell_type": "code",
   "execution_count": 216,
   "metadata": {},
   "outputs": [],
   "source": [
    "# Drop any duplicate rows\n",
    "#df.drop_duplicates(keep = False)"
   ]
  },
  {
   "cell_type": "code",
   "execution_count": 217,
   "metadata": {},
   "outputs": [],
   "source": [
    "# Recheck the number of mice\n",
    "#num_mice = len(single_dataset['Mouse ID'].unique())\n",
    "#num_mice"
   ]
  },
  {
   "cell_type": "markdown",
   "metadata": {},
   "source": [
    "## Summary Statistics"
   ]
  },
  {
   "cell_type": "code",
   "execution_count": 218,
   "metadata": {},
   "outputs": [
    {
     "data": {
      "text/html": [
       "<div>\n",
       "<style scoped>\n",
       "    .dataframe tbody tr th:only-of-type {\n",
       "        vertical-align: middle;\n",
       "    }\n",
       "\n",
       "    .dataframe tbody tr th {\n",
       "        vertical-align: top;\n",
       "    }\n",
       "\n",
       "    .dataframe thead th {\n",
       "        text-align: right;\n",
       "    }\n",
       "</style>\n",
       "<table border=\"1\" class=\"dataframe\">\n",
       "  <thead>\n",
       "    <tr style=\"text-align: right;\">\n",
       "      <th></th>\n",
       "      <th>Mean</th>\n",
       "      <th>Median</th>\n",
       "      <th>Variance</th>\n",
       "      <th>Standard_Error_Mean</th>\n",
       "      <th>Standard_Deviation</th>\n",
       "    </tr>\n",
       "    <tr>\n",
       "      <th>Drug Regimen</th>\n",
       "      <th></th>\n",
       "      <th></th>\n",
       "      <th></th>\n",
       "      <th></th>\n",
       "      <th></th>\n",
       "    </tr>\n",
       "  </thead>\n",
       "  <tbody>\n",
       "    <tr>\n",
       "      <th>Capomulin</th>\n",
       "      <td>40.675741</td>\n",
       "      <td>41.557809</td>\n",
       "      <td>24.947764</td>\n",
       "      <td>0.329346</td>\n",
       "      <td>4.994774</td>\n",
       "    </tr>\n",
       "    <tr>\n",
       "      <th>Ceftamin</th>\n",
       "      <td>52.591172</td>\n",
       "      <td>51.776157</td>\n",
       "      <td>39.290177</td>\n",
       "      <td>0.469821</td>\n",
       "      <td>6.268188</td>\n",
       "    </tr>\n",
       "    <tr>\n",
       "      <th>Infubinol</th>\n",
       "      <td>52.884795</td>\n",
       "      <td>51.820584</td>\n",
       "      <td>43.128684</td>\n",
       "      <td>0.492236</td>\n",
       "      <td>6.567243</td>\n",
       "    </tr>\n",
       "    <tr>\n",
       "      <th>Ketapril</th>\n",
       "      <td>55.235638</td>\n",
       "      <td>53.698743</td>\n",
       "      <td>68.553577</td>\n",
       "      <td>0.603860</td>\n",
       "      <td>8.279709</td>\n",
       "    </tr>\n",
       "    <tr>\n",
       "      <th>Naftisol</th>\n",
       "      <td>54.331565</td>\n",
       "      <td>52.509285</td>\n",
       "      <td>66.173479</td>\n",
       "      <td>0.596466</td>\n",
       "      <td>8.134708</td>\n",
       "    </tr>\n",
       "    <tr>\n",
       "      <th>Placebo</th>\n",
       "      <td>54.033581</td>\n",
       "      <td>52.288934</td>\n",
       "      <td>61.168083</td>\n",
       "      <td>0.581331</td>\n",
       "      <td>7.821003</td>\n",
       "    </tr>\n",
       "    <tr>\n",
       "      <th>Propriva</th>\n",
       "      <td>52.322552</td>\n",
       "      <td>50.854632</td>\n",
       "      <td>42.351070</td>\n",
       "      <td>0.512884</td>\n",
       "      <td>6.507770</td>\n",
       "    </tr>\n",
       "    <tr>\n",
       "      <th>Ramicane</th>\n",
       "      <td>40.216745</td>\n",
       "      <td>40.673236</td>\n",
       "      <td>23.486704</td>\n",
       "      <td>0.320955</td>\n",
       "      <td>4.846308</td>\n",
       "    </tr>\n",
       "    <tr>\n",
       "      <th>Stelasyn</th>\n",
       "      <td>54.233149</td>\n",
       "      <td>52.431737</td>\n",
       "      <td>59.450562</td>\n",
       "      <td>0.573111</td>\n",
       "      <td>7.710419</td>\n",
       "    </tr>\n",
       "    <tr>\n",
       "      <th>Zoniferol</th>\n",
       "      <td>53.236507</td>\n",
       "      <td>51.818479</td>\n",
       "      <td>48.533355</td>\n",
       "      <td>0.516398</td>\n",
       "      <td>6.966589</td>\n",
       "    </tr>\n",
       "  </tbody>\n",
       "</table>\n",
       "</div>"
      ],
      "text/plain": [
       "                   Mean     Median   Variance  Standard_Error_Mean  \\\n",
       "Drug Regimen                                                         \n",
       "Capomulin     40.675741  41.557809  24.947764             0.329346   \n",
       "Ceftamin      52.591172  51.776157  39.290177             0.469821   \n",
       "Infubinol     52.884795  51.820584  43.128684             0.492236   \n",
       "Ketapril      55.235638  53.698743  68.553577             0.603860   \n",
       "Naftisol      54.331565  52.509285  66.173479             0.596466   \n",
       "Placebo       54.033581  52.288934  61.168083             0.581331   \n",
       "Propriva      52.322552  50.854632  42.351070             0.512884   \n",
       "Ramicane      40.216745  40.673236  23.486704             0.320955   \n",
       "Stelasyn      54.233149  52.431737  59.450562             0.573111   \n",
       "Zoniferol     53.236507  51.818479  48.533355             0.516398   \n",
       "\n",
       "              Standard_Deviation  \n",
       "Drug Regimen                      \n",
       "Capomulin               4.994774  \n",
       "Ceftamin                6.268188  \n",
       "Infubinol               6.567243  \n",
       "Ketapril                8.279709  \n",
       "Naftisol                8.134708  \n",
       "Placebo                 7.821003  \n",
       "Propriva                6.507770  \n",
       "Ramicane                4.846308  \n",
       "Stelasyn                7.710419  \n",
       "Zoniferol               6.966589  "
      ]
     },
     "execution_count": 218,
     "metadata": {},
     "output_type": "execute_result"
    }
   ],
   "source": [
    "# Generate a summary statistics table of mean, median, variance,standard deviation, and SEM of the tumor volume for each regimen.\n",
    "\n",
    "#to get mean\n",
    "dataset_mean = single_dataset.groupby('Drug Regimen').mean()['Tumor Volume (mm3)']\n",
    "#to get median\n",
    "dataset_median = single_dataset.groupby('Drug Regimen').median()['Tumor Volume (mm3)']\n",
    "#to get variance\n",
    "dataset_variance = single_dataset.groupby('Drug Regimen').var()['Tumor Volume (mm3)']\n",
    "#to get standard deviation\n",
    "dataset_stdev = single_dataset.groupby('Drug Regimen').std()['Tumor Volume (mm3)']\n",
    "#to get Standard Error of Mean\n",
    "dataset_sem = single_dataset.groupby('Drug Regimen').sem()['Tumor Volume (mm3)']\n",
    "\n",
    "#create dataframe for summary\n",
    "new_df = pd.DataFrame(dataset_mean)\n",
    "new_df.head()\n",
    "\n",
    "#rename Tumor Volume column to mean \n",
    "new_tables = new_df.rename(columns={\"Tumor Volume (mm3)\": \"Mean\" })\n",
    "#median,variance, sem, std for each drug for table\n",
    "summary_table = new_tables.assign(Median=dataset_median, Variance = dataset_variance,Standard_Error_Mean = dataset_sem , Standard_Deviation = dataset_stdev)\n",
    "#display  summary stat table\n",
    "summary_table"
   ]
  },
  {
   "cell_type": "markdown",
   "metadata": {},
   "source": [
    "## Bar and Pie Charts"
   ]
  },
  {
   "cell_type": "code",
   "execution_count": 219,
   "metadata": {},
   "outputs": [
    {
     "data": {
      "text/plain": [
       "Text(0, 0.5, 'Data Points')"
      ]
     },
     "execution_count": 219,
     "metadata": {},
     "output_type": "execute_result"
    },
    {
     "data": {
      "image/png": "[encoded data removed]",
      "text/plain": [
       "<Figure size 432x288 with 1 Axes>"
      ]
     },
     "metadata": {
      "needs_background": "light"
     },
     "output_type": "display_data"
    }
   ],
   "source": [
    "# Generate a bar plot showing the total number of datapoints for each drug regimen using pandas.\n",
    "# There should be a single bar per regimen\n",
    "bar = single_dataset.groupby('Drug Regimen').count()['Tumor Volume (mm3)']\n",
    "barplot_info = bar.plot.bar(title = 'Drug Regimen vs Data Points', rot = 50)\n",
    "barplot_info.set_ylabel(\"Data Points\")"
   ]
  },
  {
   "cell_type": "code",
   "execution_count": 220,
   "metadata": {},
   "outputs": [
    {
     "data": {
      "image/png": "[encoded data removed]",
      "text/plain": [
       "<Figure size 432x288 with 1 Axes>"
      ]
     },
     "metadata": {
      "needs_background": "light"
     },
     "output_type": "display_data"
    },
    {
     "data": {
      "text/plain": [
       "<Figure size 432x288 with 0 Axes>"
      ]
     },
     "metadata": {},
     "output_type": "display_data"
    }
   ],
   "source": [
    "# Generate identical bar plot using pyplot\n",
    "barplot_dataset = single_dataset.groupby('Drug Regimen').count()['Tumor Volume (mm3)']\n",
    "\n",
    "#create df\n",
    "barplot_dataset_df = pd.DataFrame(barplot_dataset)\n",
    "#barplot_dataset_df\n",
    "plt.xdata = barplot_dataset_df.plot.bar(legend = False, rot = 50, align=\"center\")\n",
    "plt.title('Regimen vs Datapoints')\n",
    "plt.xlabel('Drug Regimen')\n",
    "plt.ylabel('Data Points')\n",
    "\n",
    "#to show results \n",
    "plt.show()\n",
    "\n",
    "#to show results with proper adjustments\n",
    "plt.tight_layout()"
   ]
  },
  {
   "cell_type": "code",
   "execution_count": 221,
   "metadata": {},
   "outputs": [
    {
     "data": {
      "image/png": "[encoded data removed]",
      "text/plain": [
       "<Figure size 432x288 with 1 Axes>"
      ]
     },
     "metadata": {},
     "output_type": "display_data"
    }
   ],
   "source": [
    "# Generate a pie plot showing the distribution of female versus male mice using pandas\n",
    "pie_data = single_dataset.groupby('Sex').count()['Mouse ID']\n",
    "pie = pie_data.plot.pie(y = 'Sex', title= 'distribution of female versus male mice')"
   ]
  },
  {
   "cell_type": "code",
   "execution_count": 222,
   "metadata": {},
   "outputs": [
    {
     "data": {
      "image/png": "[encoded data removed]",
      "text/plain": [
       "<Figure size 432x288 with 1 Axes>"
      ]
     },
     "metadata": {},
     "output_type": "display_data"
    },
    {
     "data": {
      "text/plain": [
       "(-0.05500000000000001,\n",
       " 0.05500000000000001,\n",
       " -0.05500000000000001,\n",
       " 0.05500000000000001)"
      ]
     },
     "execution_count": 222,
     "metadata": {},
     "output_type": "execute_result"
    },
    {
     "data": {
      "image/png": "[encoded data removed]",
      "text/plain": [
       "<Figure size 432x288 with 1 Axes>"
      ]
     },
     "metadata": {
      "needs_background": "light"
     },
     "output_type": "display_data"
    }
   ],
   "source": [
    "#   Generate identical pie plot using pyplot\n",
    "pie_data = single_dataset.groupby('Sex').count()['Mouse ID']\n",
    "pie_data_df = pd.DataFrame(pie_data)\n",
    "#we create pie and make the labels\n",
    "plt.pie(pie_data, labels=pie_data.index);\n",
    "plt.title('distribution of female versus male mice')\n",
    "plt.xlabel('Gender')\n",
    "plt.ylabel('Mouse ID')\n",
    "#to show results\n",
    "plt.show()\n",
    "#setting an equal axis ratio\n",
    "plt.axis(\"equal\")"
   ]
  },
  {
   "cell_type": "markdown",
   "metadata": {},
   "source": [
    "## Quartiles, Outliers and Boxplots"
   ]
  },
  {
   "cell_type": "code",
   "execution_count": 223,
   "metadata": {},
   "outputs": [],
   "source": [
    "#   Calculate the final tumor volume of each mouse across four of the treatment regimens:# Capomulin, Ramicane, and Ceftamin # HINT: Not all mice lived until timepoint 45\n",
    "\n",
    "# Define Capomulin df\n",
    "capomulin_df = single_dataset.loc[single_dataset[\"Drug Regimen\"] == \"Capomulin\", :]\n",
    "#  Define Ramicane df\n",
    "ramicane_df = single_dataset.loc[single_dataset[\"Drug Regimen\"] == \"Ramicane\", :]\n",
    "#Define infubinol df\n",
    "infubinol_df = single_dataset.loc[single_dataset[\"Drug Regimen\"] == \"Infubinol\", :]\n",
    "#Define Ceftamin df\n",
    "ceftamin_df = single_dataset.loc[single_dataset[\"Drug Regimen\"] == \"Ceftamin\", :]"
   ]
  },
  {
   "cell_type": "markdown",
   "metadata": {},
   "source": [
    "Calculate the quartiles and IQR and quantitatively determine if there are any potential outliers across all four treatment regimens."
   ]
  },
  {
   "cell_type": "code",
   "execution_count": 224,
   "metadata": {},
   "outputs": [
    {
     "name": "stdout",
     "output_type": "stream",
     "text": [
      "For the Capomulin Regimen, values below the 20.70456164999999 can be outliers.\n",
      "For the Capomulin Regimen, values above the 51.83201549 can be outliers.\n",
      "For the Ramicane Regimen, values below the 20.70456164999999 can be outliers.\n",
      "For the Ramicane Regimen, values above the 51.83201549 can be outliers.\n",
      "For the Infubinol Regimen, values below the 36.83290494999999 can be outliers.\n",
      "For the Infubinol Regimen, values above the 82.74144559000001 can be outliers.\n",
      "For the Ceftamin Regimen, values below the 23.516580349999995 can be outliers.\n",
      "For the Ceftamin Regimen, values above the 90.73124035000001 can be outliers.\n"
     ]
    }
   ],
   "source": [
    "#  Start by getting the last (greatest) timepoint for each mouse\n",
    "#  Merge this group df with the original dataframe to get the tumor volume at the last timepoint\n",
    "\n",
    "#max timepoint\n",
    "capomulin_maximum = capomulin_df.groupby('Mouse ID').max()['Timepoint']\n",
    "#create dataframe\n",
    "capomulin_maximum_dataframe = pd.DataFrame(capomulin_maximum)\n",
    "capomulin_maximum_merge = pd.merge(capomulin_maximum_dataframe,single_dataset, on = (\"Mouse ID\", \"Timepoint\"), how= \"left\")\n",
    "\n",
    "#max \n",
    "ramicane_maximum = ramicane_df.groupby('Mouse ID').max()['Timepoint']\n",
    "#create dataframe\n",
    "ramicane_maximum_dataframe = pd.DataFrame(ramicane_maximum)\n",
    "ramicane_maximum_merge = pd.merge(ramicane_maximum_dataframe,single_dataset, on = (\"Mouse ID\", \"Timepoint\"), how= \"left\")\n",
    "\n",
    "#max\n",
    "infubinol_maximum = infubinol_df.groupby('Mouse ID').max()['Timepoint']\n",
    "#create dataframe\n",
    "infubinol_maximum_dataframe = pd.DataFrame(infubinol_maximum)\n",
    "infubinol_maximum_merge = pd.merge(infubinol_maximum_dataframe,single_dataset, on = (\"Mouse ID\", \"Timepoint\"), how= \"left\")\n",
    "\n",
    "#max \n",
    "ceftamin_maximum = ceftamin_df.groupby('Mouse ID').max()['Timepoint']\n",
    "#create dataframe\n",
    "ceftamin_maximum_dataframe = pd.DataFrame(ceftamin_maximum)\n",
    "ceftamin_maximum_merge = pd.merge(ceftamin_maximum_dataframe,single_dataset, on = (\"Mouse ID\", \"Timepoint\"), how= \"left\")\n",
    "\n",
    "\n",
    "#Capomulin tumor\n",
    "capomulin_t = capomulin_maximum_merge[\"Tumor Volume (mm3)\"]\n",
    "#we calculate the quartiles\n",
    "capomulin_quartiles = capomulin_t.quantile([.25,.5,.75])\n",
    "capomulin_lowerq = capomulin_quartiles[0.25]\n",
    "capomulin_upperq = capomulin_quartiles[0.75]\n",
    "capomulin_iqr = capomulin_upperq-capomulin_lowerq\n",
    "capomulin_lower_b = capomulin_lowerq - (1.5*capomulin_iqr)\n",
    "capomulin_upper_b = capomulin_upperq + (1.5* capomulin_iqr)\n",
    "print(f\"For the Capomulin Regimen, values below the {capomulin_lower_b} can be outliers.\")\n",
    "print(f\"For the Capomulin Regimen, values above the {capomulin_upper_b} can be outliers.\")\n",
    "\n",
    "# ramicane tumors\n",
    "ramicane_t = ramicane_maximum_merge[\"Tumor Volume (mm3)\"]\n",
    "#we calculate the quartiles\n",
    "ramicane_quartiles = ramicane_t.quantile([.25,.5,.75])\n",
    "ramicane_lowerq = ramicane_quartiles[0.25]\n",
    "ramicane_upperq = ramicane_quartiles[0.75]\n",
    "ramicane_iqr = ramicane_upperq-ramicane_lowerq\n",
    "ramicane_lower_b = ramicane_lowerq - (1.5*ramicane_iqr)\n",
    "ramicane_upper_b = ramicane_upperq + (1.5* ramicane_iqr)\n",
    "print(f\"For the Ramicane Regimen, values below the {capomulin_lower_b} can be outliers.\")\n",
    "print(f\"For the Ramicane Regimen, values above the {capomulin_upper_b} can be outliers.\")\n",
    "\n",
    "# infubinol tumors\n",
    "infubinol_t = infubinol_maximum_merge[\"Tumor Volume (mm3)\"]\n",
    "#we calculate the quartiles\n",
    "infubinol_quartiles = infubinol_t.quantile([.25,.5,.75])\n",
    "infubinol_lowerq = infubinol_quartiles[0.25]\n",
    "infubinol_upperq = infubinol_quartiles[0.75]\n",
    "infubinol_iqr = infubinol_upperq-infubinol_lowerq\n",
    "infubinol_lower_b = infubinol_lowerq - (1.5*infubinol_iqr)\n",
    "infubinol_upper_b = infubinol_upperq + (1.5* infubinol_iqr)\n",
    "print(f\"For the Infubinol Regimen, values below the {infubinol_lower_b} can be outliers.\")\n",
    "print(f\"For the Infubinol Regimen, values above the {infubinol_upper_b} can be outliers.\")\n",
    "\n",
    "#ceftamin tumors\n",
    "ceftamin_t = ceftamin_maximum_merge[\"Tumor Volume (mm3)\"]\n",
    "#we calculate the quartiles\n",
    "ceftamin_quartiles = ceftamin_t.quantile([.25,.5,.75])\n",
    "ceftamin_lowerq = ceftamin_quartiles[0.25]\n",
    "ceftamin_upperq = infubinol_quartiles[0.75]\n",
    "ceftamin_iqr = ceftamin_upperq-ceftamin_lowerq\n",
    "ceftamin_lower_b = ceftamin_lowerq - (1.5*ceftamin_iqr)\n",
    "ceftamin_upper_b = ceftamin_upperq + (1.5* ceftamin_iqr)\n",
    "print(f\"For the Ceftamin Regimen, values below the {ceftamin_lower_b} can be outliers.\")\n",
    "print(f\"For the Ceftamin Regimen, values above the {ceftamin_upper_b} can be outliers.\")\n",
    "\n"
   ]
  },
  {
   "cell_type": "code",
   "execution_count": 225,
   "metadata": {},
   "outputs": [
    {
     "data": {
      "image/png": "[encoded data removed]",
      "text/plain": [
       "<Figure size 432x288 with 1 Axes>"
      ]
     },
     "metadata": {
      "needs_background": "light"
     },
     "output_type": "display_data"
    }
   ],
   "source": [
    "#Generate a box plot of the final tumor volume of each mouse across four regimens of interest\n",
    "\n",
    "# We create a Single Chart with BoxPlots of the Tumor Volume:\n",
    "\n",
    "# show axes, labels\n",
    "fig1, ax1 = plt.subplots()\n",
    "ax1.set_title('Capomulin,  Ramicane,  Infubinol,  Ceftamin')\n",
    "ax1.set_ylabel('Final Tumor Volume')\n",
    "data_bp = [capomulin_t,ramicane_t, infubinol_t, ceftamin_t]\n",
    "#boxplot\n",
    "boxpt = ax1.boxplot(data_bp)\n",
    "#results\n",
    "plt.show()"
   ]
  },
  {
   "cell_type": "markdown",
   "metadata": {},
   "source": [
    "## Line and Scatter Plots"
   ]
  },
  {
   "cell_type": "code",
   "execution_count": 226,
   "metadata": {},
   "outputs": [
    {
     "data": {
      "image/png": "[encoded data removed]",
      "text/plain": [
       "<Figure size 432x288 with 1 Axes>"
      ]
     },
     "metadata": {
      "needs_background": "light"
     },
     "output_type": "display_data"
    }
   ],
   "source": [
    "# Generate a line plot of tumor volume vs. time point for a single mouse  treated with Capomulin\n",
    "capomulin_single = capomulin_df.loc[capomulin_df [\"Mouse ID\"]== \"b128\",:]\n",
    "capomulin_single.plot(kind=\"line\", x=\"Timepoint\", y=\"Tumor Volume (mm3)\", grid=True, title=\"Tumor volume vs.Time point for 'Mouseb128' treated w/ Capomulin\")\n",
    "plt.ylabel('Tumor Volume (mm3)')\n",
    "plt.show()"
   ]
  },
  {
   "cell_type": "code",
   "execution_count": null,
   "metadata": {},
   "outputs": [],
   "source": []
  },
  {
   "cell_type": "code",
   "execution_count": 227,
   "metadata": {},
   "outputs": [
    {
     "data": {
      "image/png": "[encoded data removed]",
      "text/plain": [
       "<Figure size 432x288 with 1 Axes>"
      ]
     },
     "metadata": {
      "needs_background": "light"
     },
     "output_type": "display_data"
    }
   ],
   "source": [
    "# Generate a scatter plot of average tumor volume vs. mouse weight # for all mice in the Capomulin regimen\n",
    "capomulin_df_ave = capomulin_df.groupby(['Mouse ID']).mean()\n",
    "capomulin_df_ave.plot(kind=\"scatter\", x=\"Weight (g)\", y=\"Tumor Volume (mm3)\", grid=True, title=\"Mouse weight vs Average tumor volume (Capomulin regimen)\")\n",
    "plt.show()"
   ]
  },
  {
   "cell_type": "markdown",
   "metadata": {},
   "source": [
    "## Correlation and Regression"
   ]
  },
  {
   "cell_type": "code",
   "execution_count": 228,
   "metadata": {},
   "outputs": [
    {
     "data": {
      "image/png": "[encoded data removed]",
      "text/plain": [
       "<Figure size 432x288 with 1 Axes>"
      ]
     },
     "metadata": {
      "needs_background": "light"
     },
     "output_type": "display_data"
    }
   ],
   "source": [
    "## Add the linear regression equation and line to plot\n",
    "# I imported linegress to run the code\n",
    "\n",
    "x_weight = capomulin_df_ave['Weight (g)']\n",
    "y_volume = capomulin_df_ave['Tumor Volume (mm3)']\n",
    "(slope, intercept, rvalue, pvalue, stderr) = linregress(x_weight, y_volume)\n",
    "#regression value equation\n",
    "regress_val = x_weight * slope + intercept\n",
    "#line equation:\n",
    "line_equation = \"y = \" + str(slope) + \"x + \" + str(intercept)\n",
    "#scatterplot\n",
    "plt.scatter(x_weight,y_volume)\n",
    "plt.plot(x_weight,regress_val,\"r-\")\n",
    "#labels\n",
    "plt.title('Mouse weight vs Average tumor volume (Capomulin regimen)')\n",
    "plt.xlabel('Weight (g)')\n",
    "plt.ylabel('Average Tumor Volume')\n",
    "#show results\n",
    "plt.show()"
   ]
  },
  {
   "cell_type": "markdown",
   "metadata": {},
   "source": [
    "# Observations and Insights"
   ]
  },
  {
   "cell_type": "markdown",
   "metadata": {},
   "source": []
  },
  {
   "cell_type": "code",
   "execution_count": 229,
   "metadata": {},
   "outputs": [],
   "source": [
    "#Interestingly, when we look at the pie plot, it shows that there is mostly an equal male and female mice distribution\n",
    "#Also, looking at the Average tumor volume vs Mouse weight in the capomulin regimine scatterplot, we can see that as the weight of the mouse increases, the tumor also increases.\n",
    "#Furthermore, the scatterplot also show the correlation between increasing mouse weight and tumor volume for mice in capomulin \n",
    "#And the scatterplot has an ascending regression line thereby delineating a positive correlation between the variables."
   ]
  }
 ],
 "metadata": {
  "anaconda-cloud": {},
  "kernelspec": {
   "display_name": "Python 3",
   "language": "python",
   "name": "python3"
  },
  "language_info": {
   "codemirror_mode": {
    "name": "ipython",
    "version": 3
   },
   "file_extension": ".py",
   "mimetype": "text/x-python",
   "name": "python",
   "nbconvert_exporter": "python",
   "pygments_lexer": "ipython3",
   "version": "3.6.10"
  },
  "toc": {
   "base_numbering": 1,
   "nav_menu": {},
   "number_sections": true,
   "sideBar": true,
   "skip_h1_title": false,
   "title_cell": "Table of Contents",
   "title_sidebar": "Contents",
   "toc_cell": false,
   "toc_position": {},
   "toc_section_display": true,
   "toc_window_display": false
  },
  "varInspector": {
   "cols": {
    "lenName": 16,
    "lenType": 16,
    "lenVar": 40
   },
   "kernels_config": {
    "python": {
     "delete_cmd_postfix": "",
     "delete_cmd_prefix": "del ",
     "library": "var_list.py",
     "varRefreshCmd": "print(var_dic_list())"
    },
    "r": {
     "delete_cmd_postfix": ") ",
     "delete_cmd_prefix": "rm(",
     "library": "var_list.r",
     "varRefreshCmd": "cat(var_dic_list()) "
    }
   },
   "types_to_exclude": [
    "module",
    "function",
    "builtin_function_or_method",
    "instance",
    "_Feature"
   ],
   "window_display": false
  }
 },
 "nbformat": 4,
 "nbformat_minor": 4
}
